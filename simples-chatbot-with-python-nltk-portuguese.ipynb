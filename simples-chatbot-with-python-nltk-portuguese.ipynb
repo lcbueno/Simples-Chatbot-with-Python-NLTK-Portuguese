{
 "cells": [
  {
   "cell_type": "code",
   "execution_count": 1,
   "id": "3a43464d",
   "metadata": {
    "execution": {
     "iopub.execute_input": "2021-12-15T19:48:50.358052Z",
     "iopub.status.busy": "2021-12-15T19:48:50.356290Z",
     "iopub.status.idle": "2021-12-15T19:48:52.040301Z",
     "shell.execute_reply": "2021-12-15T19:48:52.039512Z",
     "shell.execute_reply.started": "2021-12-15T19:41:46.196775Z"
    },
    "id": "lZwa0wZN5XpM",
    "papermill": {
     "duration": 1.695855,
     "end_time": "2021-12-15T19:48:52.040488",
     "exception": false,
     "start_time": "2021-12-15T19:48:50.344633",
     "status": "completed"
    },
    "tags": []
   },
   "outputs": [],
   "source": [
    "import nltk\n",
    "from nltk.chat.util import Chat, reflections  "
   ]
  },
  {
   "cell_type": "code",
   "execution_count": 2,
   "id": "f214e5ea",
   "metadata": {
    "execution": {
     "iopub.execute_input": "2021-12-15T19:48:52.062210Z",
     "iopub.status.busy": "2021-12-15T19:48:52.061336Z",
     "iopub.status.idle": "2021-12-15T19:48:52.065054Z",
     "shell.execute_reply": "2021-12-15T19:48:52.065552Z",
     "shell.execute_reply.started": "2021-12-15T19:41:47.991402Z"
    },
    "id": "7JVJSBqF5nId",
    "outputId": "b68fc838-f284-4741-d208-bd9a2ec8ab50",
    "papermill": {
     "duration": 0.018552,
     "end_time": "2021-12-15T19:48:52.065713",
     "exception": false,
     "start_time": "2021-12-15T19:48:52.047161",
     "status": "completed"
    },
    "tags": []
   },
   "outputs": [
    {
     "data": {
      "text/plain": [
       "{'i am': 'you are',\n",
       " 'i was': 'you were',\n",
       " 'i': 'you',\n",
       " \"i'm\": 'you are',\n",
       " \"i'd\": 'you would',\n",
       " \"i've\": 'you have',\n",
       " \"i'll\": 'you will',\n",
       " 'my': 'your',\n",
       " 'you are': 'I am',\n",
       " 'you were': 'I was',\n",
       " \"you've\": 'I have',\n",
       " \"you'll\": 'I will',\n",
       " 'your': 'my',\n",
       " 'yours': 'mine',\n",
       " 'you': 'me',\n",
       " 'me': 'you'}"
      ]
     },
     "execution_count": 2,
     "metadata": {},
     "output_type": "execute_result"
    }
   ],
   "source": [
    "reflections  "
   ]
  },
  {
   "cell_type": "code",
   "execution_count": 3,
   "id": "531b5a4c",
   "metadata": {
    "execution": {
     "iopub.execute_input": "2021-12-15T19:48:52.085853Z",
     "iopub.status.busy": "2021-12-15T19:48:52.085166Z",
     "iopub.status.idle": "2021-12-15T19:48:52.088530Z",
     "shell.execute_reply": "2021-12-15T19:48:52.087956Z",
     "shell.execute_reply.started": "2021-12-15T19:41:48.003673Z"
    },
    "id": "rimuIlYWMkIl",
    "papermill": {
     "duration": 0.016113,
     "end_time": "2021-12-15T19:48:52.088676",
     "exception": false,
     "start_time": "2021-12-15T19:48:52.072563",
     "status": "completed"
    },
    "tags": []
   },
   "outputs": [],
   "source": [
    "reflections_pt = {'eu': 'você',     \n",
    "                  'eu sou': 'você é',\n",
    "                  'eu era': 'você era',\n",
    "                  \"eu iria\": 'você iria',\n",
    "                  \"eu irei\": 'você irá',\n",
    "                  'meu': 'seu',\n",
    "                  'você': 'eu',\n",
    "                  'você é': 'eu sou',\n",
    "                  'você era': 'eu era',\n",
    "                  \"você irá\": 'eu irei',\n",
    "                  'seu': 'meu'}"
   ]
  },
  {
   "cell_type": "code",
   "execution_count": 4,
   "id": "d17eeff2",
   "metadata": {
    "execution": {
     "iopub.execute_input": "2021-12-15T19:48:52.109114Z",
     "iopub.status.busy": "2021-12-15T19:48:52.108322Z",
     "iopub.status.idle": "2021-12-15T19:48:52.112327Z",
     "shell.execute_reply": "2021-12-15T19:48:52.112801Z",
     "shell.execute_reply.started": "2021-12-15T19:41:48.016253Z"
    },
    "id": "sU5XwnNE6FKv",
    "papermill": {
     "duration": 0.017787,
     "end_time": "2021-12-15T19:48:52.112981",
     "exception": false,
     "start_time": "2021-12-15T19:48:52.095194",
     "status": "completed"
    },
    "tags": []
   },
   "outputs": [],
   "source": [
    "pares = [        \n",
    "    [\n",
    "     r'oi|olá|opa',\n",
    "     ['olá', 'como vai?', 'tudo bem?']\n",
    "    ],\n",
    "    [\n",
    "     r'qual é o seu nome?',\n",
    "     ['Meu nome é Chat e eu sou um chatbot']\n",
    "    ],  \n",
    "    [\n",
    "     r'(.*) idade?',\n",
    "     ['Não tenho idade pois sou um chatbot']\n",
    "    ], \n",
    "    [\n",
    "     r'meu nome é (.*)',\n",
    "     ['Olá %1, como você está hoje?']\n",
    "    ],  \n",
    "    [\n",
    "     r'eu trabalho na empresa (.*)',\n",
    "     ['Eu conheço a empresa %1']\n",
    "    ], \n",
    "    [\n",
    "     r'(.*) (cidade|país)',\n",
    "     ['Porto União, Brasil']\n",
    "    ], \n",
    "    [\n",
    "     r'quit',\n",
    "     ['Até breve', 'Foi bom conversar com você. Até breve!']\n",
    "    ]     \n",
    "]"
   ]
  },
  {
   "cell_type": "code",
   "execution_count": 5,
   "id": "cc08148d",
   "metadata": {
    "execution": {
     "iopub.execute_input": "2021-12-15T19:48:52.130270Z",
     "iopub.status.busy": "2021-12-15T19:48:52.128900Z",
     "iopub.status.idle": "2021-12-15T19:48:52.138105Z",
     "shell.execute_reply": "2021-12-15T19:48:52.137463Z",
     "shell.execute_reply.started": "2021-12-15T19:41:48.028289Z"
    },
    "id": "ocerTWVf6a47",
    "outputId": "1122af56-85f6-4b30-b9f6-317e970f4d19",
    "papermill": {
     "duration": 0.018641,
     "end_time": "2021-12-15T19:48:52.138280",
     "exception": false,
     "start_time": "2021-12-15T19:48:52.119639",
     "status": "completed"
    },
    "tags": []
   },
   "outputs": [
    {
     "name": "stdout",
     "output_type": "stream",
     "text": [
      "Olá, sou o chat!\n"
     ]
    }
   ],
   "source": [
    "print('Olá, sou o chat!')\n",
    "chat = Chat(pares, reflections_pt)\n",
    "#chat.converse()   =>    This would be the final command to run the code."
   ]
  },
  {
   "cell_type": "markdown",
   "id": "782b9378",
   "metadata": {
    "papermill": {
     "duration": 0.006775,
     "end_time": "2021-12-15T19:48:52.152536",
     "exception": false,
     "start_time": "2021-12-15T19:48:52.145761",
     "status": "completed"
    },
    "tags": []
   },
   "source": [
    "**I put the hashtag here so the code doesn't run, which would make it impossible to save, to run it just remove the hashtag.**"
   ]
  }
 ],
 "metadata": {
  "kernelspec": {
   "display_name": "Python 3",
   "language": "python",
   "name": "python3"
  },
  "language_info": {
   "codemirror_mode": {
    "name": "ipython",
    "version": 3
   },
   "file_extension": ".py",
   "mimetype": "text/x-python",
   "name": "python",
   "nbconvert_exporter": "python",
   "pygments_lexer": "ipython3",
   "version": "3.7.12"
  },
  "papermill": {
   "default_parameters": {},
   "duration": 12.950005,
   "end_time": "2021-12-15T19:48:52.871274",
   "environment_variables": {},
   "exception": null,
   "input_path": "__notebook__.ipynb",
   "output_path": "__notebook__.ipynb",
   "parameters": {},
   "start_time": "2021-12-15T19:48:39.921269",
   "version": "2.3.3"
  }
 },
 "nbformat": 4,
 "nbformat_minor": 5
}
